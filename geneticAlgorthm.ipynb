{
  "cells": [
    {
      "cell_type": "markdown",
      "source": [
        "## Import Library\n",
        "Import all libraries required to run the functional genetic algorithm"
      ],
      "metadata": {
        "id": "TQ8-O4A4ppyY"
      },
      "id": "TQ8-O4A4ppyY"
    },
    {
      "cell_type": "code",
      "source": [
        "import pandas as pd\n",
        "import numpy as np\n",
        "import random\n",
        "import matplotlib.pyplot as plt"
      ],
      "metadata": {
        "id": "02NHXQnloWIv"
      },
      "id": "02NHXQnloWIv",
      "execution_count": 1,
      "outputs": []
    },
    {
      "cell_type": "markdown",
      "source": [
        "## City & Route Class\n",
        "\n",
        "The City class to make it easier to define cities coordinate and calculate the distance between two cities.\n",
        "\n",
        "The Route class to determine the route taken and calculate the total distance and fitness value"
      ],
      "metadata": {
        "id": "ClIlAHL0iz5E"
      },
      "id": "ClIlAHL0iz5E"
    },
    {
      "cell_type": "code",
      "source": [
        "class City:\n",
        "    def __init__(self,name, x, y):\n",
        "        self.x = x\n",
        "        self.y = y\n",
        "        self.name = name\n",
        "\n",
        "    def distance(self, city):\n",
        "        xDis = abs(self.x - city.x)\n",
        "        yDis = abs(self.y - city.y)\n",
        "        distance = np.sqrt((abs(self.x - city.x) ** 2) + (abs(self.y - city.y)** 2))\n",
        "        return distance\n",
        "\n",
        "    def __repr__(self):\n",
        "        return \"(\"+str(self.name)+\")\""
      ],
      "metadata": {
        "id": "LghNpu3ni4Kh"
      },
      "id": "LghNpu3ni4Kh",
      "execution_count": 2,
      "outputs": []
    },
    {
      "cell_type": "code",
      "source": [
        "class Route:\n",
        "    def __init__(self, route):\n",
        "        self.route = route\n",
        "        self.distance = 0\n",
        "        self.fitness = 0.0\n",
        "\n",
        "    def routeDistance(self):\n",
        "        if self.distance == 0:\n",
        "            pathDistance = 0\n",
        "            for i in range(0, len(self.route)):\n",
        "                fromCity = self.route[i]\n",
        "                toCity = None\n",
        "\n",
        "                if i + 1 < len(self.route):\n",
        "                    toCity = self.route[i + 1]\n",
        "                else:\n",
        "                    toCity = self.route[0]\n",
        "\n",
        "                pathDistance += fromCity.distance(toCity)\n",
        "            self.distance = pathDistance\n",
        "        return self.distance\n",
        "\n",
        "    def routeFitness(self):\n",
        "        if self.fitness == 0:\n",
        "            self.fitness = 1 / float(self.routeDistance())\n",
        "        return self.fitness\n",
        "\n",
        "    def printCity(self):\n",
        "        namaKota =[]\n",
        "        for i in range(0,len(self.route)):\n",
        "            namaKota.append(self.route[i].name)\n",
        "        return \"(\"+str(namaKota)+ \")\""
      ],
      "metadata": {
        "id": "Db5pjsbSjNLl"
      },
      "id": "Db5pjsbSjNLl",
      "execution_count": 3,
      "outputs": []
    },
    {
      "cell_type": "markdown",
      "source": [
        "## Genetic Algorithm Functions\n",
        "\n",
        "Create several functions to perform each step in the genetic algorithm, such as:\n",
        "- Create Route\n",
        "- Initial Population\n",
        "- Rank Routes\n",
        "- Selection\n",
        "- Check Tabulist\n",
        "- Crossover\n",
        "- Mutate\n",
        "- Update Generation"
      ],
      "metadata": {
        "id": "FAb_5rm4jFIN"
      },
      "id": "FAb_5rm4jFIN"
    },
    {
      "cell_type": "markdown",
      "source": [
        "### Create Route"
      ],
      "metadata": {
        "id": "znKDjlNiD2Zi"
      },
      "id": "znKDjlNiD2Zi"
    },
    {
      "cell_type": "code",
      "source": [
        "def createRoute(cityList):\n",
        "    #Randomize city based on city in dataset to assign into route\n",
        "    route = random.sample(cityList, len(cityList))\n",
        "    return route"
      ],
      "metadata": {
        "id": "TB8Vxs2jD4q1"
      },
      "id": "TB8Vxs2jD4q1",
      "execution_count": 4,
      "outputs": []
    },
    {
      "cell_type": "markdown",
      "source": [
        "### Intialization the Population"
      ],
      "metadata": {
        "id": "Upi_gGfHD73w"
      },
      "id": "Upi_gGfHD73w"
    },
    {
      "cell_type": "code",
      "source": [
        "def initialPopulation(popSize, cityList):\n",
        "    population = []\n",
        "    # Create population based on population size\n",
        "    for i in range(0, popSize):\n",
        "      route = createRoute(cityList)\n",
        "      while route in population:\n",
        "        route = createRoute(cityList)\n",
        "      population.append(createRoute(cityList))\n",
        "    return population"
      ],
      "metadata": {
        "id": "GRrMvZqyEB_1"
      },
      "id": "GRrMvZqyEB_1",
      "execution_count": 5,
      "outputs": []
    },
    {
      "cell_type": "markdown",
      "source": [
        "### Rank Routes"
      ],
      "metadata": {
        "id": "-aZ5-B5rEC91"
      },
      "id": "-aZ5-B5rEC91"
    },
    {
      "cell_type": "code",
      "source": [
        "def rankRoutes(population):\n",
        "    fitnessResults = []\n",
        "    rankRoute = {}\n",
        "\n",
        "    #Determine fitness each individual in population\n",
        "    for i in range(0, len(population)):\n",
        "        fitnessResults.append(Route(population[i]).routeFitness())\n",
        "\n",
        "    #Sorting based on fitness value\n",
        "    sortedFitness = sorted(fitnessResults, reverse=True)\n",
        "    for i in range(0, len(sortedFitness)):\n",
        "        for j in range(0, len(population)):\n",
        "            if sortedFitness[i] == Route(population[j]).routeFitness():\n",
        "                rankRoute[i] = population[j]\n",
        "\n",
        "    return rankRoute"
      ],
      "metadata": {
        "id": "bgp7ycP4ELzq"
      },
      "id": "bgp7ycP4ELzq",
      "execution_count": 14,
      "outputs": []
    },
    {
      "cell_type": "markdown",
      "source": [
        "### Selection"
      ],
      "metadata": {
        "id": "kV20HHhyEcuf"
      },
      "id": "kV20HHhyEcuf"
    },
    {
      "cell_type": "code",
      "source": [
        "def selection(population):\n",
        "    selection = []\n",
        "    #Take first 2  the best individuals\n",
        "    for i in range(0,2):\n",
        "        selection.append(population[i])\n",
        "        print(\"seleksi ke-\" + str(i+1) + \" \" + str(Route(selection[i]).printCity()) + \"\\n\" +\n",
        "              \" Jarak = \" + str(Route(selection[i]).routeDistance()) + \"\\n\" + \" Fitness = \" + str(\n",
        "            Route(selection[i]).routeFitness()))\n",
        "    return selection"
      ],
      "metadata": {
        "id": "nI_ONY3IEhqn"
      },
      "id": "nI_ONY3IEhqn",
      "execution_count": 24,
      "outputs": []
    },
    {
      "cell_type": "markdown",
      "source": [
        "### Tabulist"
      ],
      "metadata": {
        "id": "OvyUF7PMEicG"
      },
      "id": "OvyUF7PMEicG"
    },
    {
      "cell_type": "code",
      "source": [
        "def tabulist(selectionResults,tabulist):\n",
        "    isTabulist1 = False\n",
        "    isTabulist2 = False\n",
        "    isTabulist = False\n",
        "\n",
        "    #Check tabulist\n",
        "    for j in range(0,len(tabulist)):\n",
        "        if selectionResults[0] == tabulist[j]:\n",
        "            isTabulist1 = True\n",
        "        if selectionResults[1] == tabulist[j]:\n",
        "            isTabulist2 = True\n",
        "\n",
        "    if isTabulist1 == False:\n",
        "        tabulist.append(selectionResults[0])\n",
        "    if isTabulist2 == False:\n",
        "        tabulist.append(selectionResults[1])\n",
        "\n",
        "    if isTabulist1 == True and isTabulist2 == True:\n",
        "        isTabulist = True\n",
        "\n",
        "    return isTabulist,tabulist"
      ],
      "metadata": {
        "id": "fyH3GhQdEke1"
      },
      "id": "fyH3GhQdEke1",
      "execution_count": 17,
      "outputs": []
    },
    {
      "cell_type": "markdown",
      "source": [
        "### Crossover"
      ],
      "metadata": {
        "id": "qTv1WkUqEnLN"
      },
      "id": "qTv1WkUqEnLN"
    },
    {
      "cell_type": "code",
      "source": [
        "def crossover(parent1, parent2,tab):\n",
        "    childP1 = []\n",
        "    childP2 = []\n",
        "    child = []\n",
        "\n",
        "    # randomizes the gene number to be carried out crossover\n",
        "    # if tabulis is true then the crossover result is the same as parent1 (best individual)\n",
        "    if tab == True:\n",
        "        geneA = 0\n",
        "        geneB = len(parent1)-1\n",
        "    else:\n",
        "        geneA = random.randint(1, len(parent1)-1)\n",
        "        geneB = random.randint(1, len(parent1)-1)\n",
        "        # Gene A and Gene B do not have the same value\n",
        "        while geneA == geneB:\n",
        "            geneB = random.randint(1, len(parent1)-1)\n",
        "\n",
        "    startGene = min(geneA, geneB)\n",
        "    endGene = max(geneA, geneB)\n",
        "    print(\"stargene = \"+str(startGene+1)+\", endGene = \"+str(endGene+1))\n",
        "\n",
        "    for i in range(startGene, endGene+1):\n",
        "        childP1.append(parent1[i])\n",
        "\n",
        "    for item in parent2:\n",
        "        if item not in childP1:\n",
        "            childP2.append(item)\n",
        "\n",
        "    #Crossover Result\n",
        "    idxChild1 = 0\n",
        "    idxChild2 = 0\n",
        "    for i in range(len(parent1)):\n",
        "      if i >= startGene and i <= endGene:\n",
        "        child.append(childP1[idxChild1])\n",
        "        idxChild1 += 1\n",
        "      else:\n",
        "        child.append(childP2[idxChild2])\n",
        "        idxChild2 += 1\n",
        "\n",
        "    return child"
      ],
      "metadata": {
        "id": "QCvxkBpREoxC"
      },
      "id": "QCvxkBpREoxC",
      "execution_count": 18,
      "outputs": []
    },
    {
      "cell_type": "markdown",
      "source": [
        "### Mutate"
      ],
      "metadata": {
        "id": "Ecpn8AcWEsEx"
      },
      "id": "Ecpn8AcWEsEx"
    },
    {
      "cell_type": "code",
      "source": [
        "def mutate(individual):\n",
        "    #randomizes the gene number to be exchanged\n",
        "    swapped = random.randint(1, len(individual)-1)\n",
        "    swapWith = random.randint(1, len(individual)-1)\n",
        "    #swapped and swapWith cannot have the same value\n",
        "    while swapped == swapWith:\n",
        "        swapWith = random.randint(1, len(individual)-1)\n",
        "\n",
        "    city1 = individual[swapped]\n",
        "    city2 = individual[swapWith]\n",
        "\n",
        "    print(\"swapped = \"+str(swapped+1) + \" , swap with = \" + str(swapWith+1))\n",
        "\n",
        "    #hasil mutasi\n",
        "    individual[swapped] = city2\n",
        "    individual[swapWith] = city1\n",
        "    return individual"
      ],
      "metadata": {
        "id": "lUqyzjCBEvAg"
      },
      "id": "lUqyzjCBEvAg",
      "execution_count": 19,
      "outputs": []
    },
    {
      "cell_type": "markdown",
      "source": [
        "### Update Generation"
      ],
      "metadata": {
        "id": "u8ZIRWkVEvh1"
      },
      "id": "u8ZIRWkVEvh1"
    },
    {
      "cell_type": "code",
      "source": [
        "def updateGeneration(population,popsize,mutate):\n",
        "    generasibaru =[]\n",
        "    #combining populations with mutation results to create a new generation\n",
        "    for i in range(0,popsize):\n",
        "        generasibaru.append(population[i])\n",
        "\n",
        "    #replace the individual with the smallest fitness (last index) with the mutation result if the mutation result is greater\n",
        "    if Route(mutate).routeFitness() >= Route(generasibaru[-1]).routeFitness():\n",
        "      generasibaru[popsize-1] =mutate\n",
        "\n",
        "    for i in range(0,popsize):\n",
        "        print(\"Generasi baru ke-\" + str(i+1) + \" \" + str(Route(generasibaru[i]).printCity()) +\n",
        "              \" Jarak = \" + str(Route(generasibaru[i]).routeDistance()) + \" Fitness = \" + str(\n",
        "            Route(generasibaru[i]).routeFitness()))\n",
        "\n",
        "    return generasibaru"
      ],
      "metadata": {
        "id": "IrjStDjFE0EM"
      },
      "id": "IrjStDjFE0EM",
      "execution_count": 20,
      "outputs": []
    },
    {
      "cell_type": "markdown",
      "source": [
        "### Implement The Genetica Algorithm"
      ],
      "metadata": {
        "id": "0YZOzzakE0up"
      },
      "id": "0YZOzzakE0up"
    },
    {
      "cell_type": "code",
      "execution_count": 21,
      "id": "0be31a0f-96f3-44eb-b52e-d5d66b72d016",
      "metadata": {
        "id": "0be31a0f-96f3-44eb-b52e-d5d66b72d016"
      },
      "outputs": [],
      "source": [
        "def geneticAlgorithm(population, popSize, generations):\n",
        "    tabulistResult = []\n",
        "    finalPopulation = []\n",
        "    pop = []\n",
        "\n",
        "    # Create Population\n",
        "    populasi = initialPopulation(popSize, population)\n",
        "\n",
        "    # Sort each individual in population based on ranking\n",
        "    rankPopulasi = rankRoutes(populasi)\n",
        "    for i in range(0, popSize):\n",
        "        pop.append(rankPopulasi[i])\n",
        "\n",
        "    # Start genetic algorithm with the first generation\n",
        "    print(\"=========================== GENERASI KE \" + str(1) + \"===============================================================>\")\n",
        "    for i in range(0,len(pop)):\n",
        "        print(\"populasi ke-\" + str(i+1) + \" \" + str(Route(pop[i]).printCity()) +\n",
        "              \" Jarak = \" + str(Route(pop[i]).routeDistance()) + \" Fitness = \" + str(\n",
        "            Route(pop[i]).routeFitness()))\n",
        "    print(\"==========================================================================================>\")\n",
        "\n",
        "    bestDistance = 9999999999999\n",
        "    progress =[]\n",
        "    for i in range(0, generations):\n",
        "        nextGeneration = []\n",
        "\n",
        "        #Selection process\n",
        "        selectionResults = selection(pop)\n",
        "\n",
        "        #Check Tabulist\n",
        "        tab, tabulistResult = tabulist(selectionResults, tabulistResult)\n",
        "\n",
        "        #Crossover if the tabulist true\n",
        "        crossoverResult = crossover(selectionResults[0], selectionResults[1], tab)\n",
        "        if tab == False:\n",
        "            print(\"Tabulist False\")\n",
        "            print(\"==========================================================================================>\")\n",
        "            print(\"hasil crossover = \" + str(crossoverResult))\n",
        "            print(\"==========================================================================================>\")\n",
        "        elif tab == True:\n",
        "            print(\"Tabulist true\")\n",
        "            print(\"==========================================================================================>\")\n",
        "            print(\"seleksi 1 = \" + str(crossoverResult))\n",
        "            print(\"==========================================================================================>\")\n",
        "        print(\"TABULIST : \", tabulistResult, \"\\n\")\n",
        "\n",
        "        #Mutate Process\n",
        "        children = mutate(crossoverResult)\n",
        "        print(\"hasil mutasi = \" + str(children) + \" Jarak = \" + str(Route(children).routeDistance()) + \" Fitness = \" + str(\n",
        "            Route(children).routeFitness()))\n",
        "        print(\"==========================================================================================>\")\n",
        "\n",
        "        #Update Generation\n",
        "        nextGeneration = updateGeneration(pop, popSize, children)\n",
        "        poptemp = nextGeneration\n",
        "\n",
        "        # Sorting new generations based on fitness\n",
        "        poptemp = rankRoutes(poptemp)\n",
        "        pop = []\n",
        "        for j in range(0, popSize):\n",
        "            pop.append(poptemp[j])\n",
        "\n",
        "        # Save the best individual in this generation\n",
        "        tempbestroute = Route(pop[0]).routeDistance()\n",
        "        progress.append(Route(pop[0]).routeDistance())\n",
        "        if (bestDistance > tempbestroute):\n",
        "            bestIndividu = Route(pop[0]).printCity()\n",
        "            bestDistance = Route(pop[0]).routeDistance()\n",
        "            bestFitness = Route(pop[0]).routeFitness()\n",
        "\n",
        "        # Next Generation process\n",
        "        finalPopulation = pop\n",
        "        print(\"\\n====================================== GENERASI KE \" + str(\n",
        "            i + 2) + \"======================================>\")\n",
        "        for n in range(0, len(pop)):\n",
        "            print(\"populasi ke-\" + str(n+1) + \" \" + str(Route(pop[n]).printCity()) +\n",
        "                \" Jarak = \" + str(Route(pop[n]).routeDistance()) + \" Fitness = \" + str(\n",
        "                Route(pop[n]).routeFitness()))\n",
        "        print(\"=========================================================================================>\")\n",
        "\n",
        "\n",
        "    print(\"BEST INDIVIDU = \" + str(bestIndividu))\n",
        "    print(\"BEST DISTANCE = \" + str(bestDistance))\n",
        "    print(\"BEST FITNESS = \" + str(bestFitness))\n",
        "\n",
        "    # Visualize the genetic algorithm result\n",
        "    plt.figure(0)\n",
        "    plt.plot(progress)\n",
        "    plt.ylabel('Distance')\n",
        "    plt.xlabel('Generation')\n",
        "    plt.title('Genetica Algorithm Result')\n",
        "    plt.savefig('algen_result.png')\n",
        "\n",
        "    return finalPopulation"
      ]
    },
    {
      "cell_type": "markdown",
      "source": [
        "## Main"
      ],
      "metadata": {
        "id": "adpH6mpjjuhI"
      },
      "id": "adpH6mpjjuhI"
    },
    {
      "cell_type": "code",
      "execution_count": 25,
      "id": "995e8393-3ab2-46d2-8a6d-24a5511bd607",
      "metadata": {
        "id": "995e8393-3ab2-46d2-8a6d-24a5511bd607"
      },
      "outputs": [],
      "source": [
        "%%capture cap\n",
        "DATASET_PATH = \"t5.csv\"\n",
        "\n",
        "# Genetic Algorithm Parameters\n",
        "POPULATION_SIZE = 5\n",
        "GENERATION = 50\n",
        "\n",
        "# Read city dataset\n",
        "city= []\n",
        "city = pd.read_csv(DATASET_PATH, header=None , sep=' ')\n",
        "\n",
        "# Define City list\n",
        "cityList = []\n",
        "for i in range(0,len(city)):\n",
        "    cityList.append(City(name = city.iloc[i,0],x=city.iloc[i][1],y=city.iloc[i][2]))\n",
        "\n",
        "# Start Genetic Algorithm process\n",
        "print(\"\\n====================================== Genetica Algorithm ======================================\\n\")\n",
        "print(f\"Population Size: {str(POPULATION_SIZE)}\")\n",
        "print(f\"Generation: {str(GENERATION)}\")\n",
        "print()\n",
        "result = geneticAlgorithm(population=cityList, popSize=POPULATION_SIZE, generations=GENERATION)\n",
        "\n",
        "with open('algen_result.txt', 'w') as f:\n",
        "    f.write(cap.stdout)"
      ]
    },
    {
      "cell_type": "code",
      "source": [],
      "metadata": {
        "id": "Qndg1M4gbccF"
      },
      "id": "Qndg1M4gbccF",
      "execution_count": null,
      "outputs": []
    }
  ],
  "metadata": {
    "kernelspec": {
      "display_name": "Python 3 (ipykernel)",
      "language": "python",
      "name": "python3"
    },
    "language_info": {
      "codemirror_mode": {
        "name": "ipython",
        "version": 3
      },
      "file_extension": ".py",
      "mimetype": "text/x-python",
      "name": "python",
      "nbconvert_exporter": "python",
      "pygments_lexer": "ipython3",
      "version": "3.11.7"
    },
    "colab": {
      "provenance": []
    }
  },
  "nbformat": 4,
  "nbformat_minor": 5
}