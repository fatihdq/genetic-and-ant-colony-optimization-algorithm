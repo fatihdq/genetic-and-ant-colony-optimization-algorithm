{
  "cells": [
    {
      "attachments": {},
      "cell_type": "markdown",
      "id": "TQ8-O4A4ppyY",
      "metadata": {
        "id": "TQ8-O4A4ppyY"
      },
      "source": [
        "## Import Library\n",
        "Import all libraries required to run the functional genetic algorithm"
      ]
    },
    {
      "cell_type": "code",
      "execution_count": 1,
      "id": "02NHXQnloWIv",
      "metadata": {
        "id": "02NHXQnloWIv"
      },
      "outputs": [],
      "source": [
        "import os\n",
        "import time\n",
        "import pandas as pd\n",
        "import numpy as np\n",
        "import random\n",
        "import matplotlib.pyplot as plt"
      ]
    },
    {
      "attachments": {},
      "cell_type": "markdown",
      "id": "ClIlAHL0iz5E",
      "metadata": {
        "id": "ClIlAHL0iz5E"
      },
      "source": [
        "## City & Route Class\n",
        "\n",
        "The City class to make it easier to define cities coordinate and calculate the distance between two cities.\n",
        "\n",
        "The Route class to determine the route taken and calculate the total distance and fitness value"
      ]
    },
    {
      "cell_type": "code",
      "execution_count": 2,
      "id": "LghNpu3ni4Kh",
      "metadata": {
        "id": "LghNpu3ni4Kh"
      },
      "outputs": [],
      "source": [
        "class City:\n",
        "    def __init__(self,name, x, y):\n",
        "        self.x = x\n",
        "        self.y = y\n",
        "        self.name = name\n",
        "\n",
        "    def distance(self, city):\n",
        "        xDis = abs(self.x - city.x)\n",
        "        yDis = abs(self.y - city.y)\n",
        "        distance = np.sqrt((abs(self.x - city.x) ** 2) + (abs(self.y - city.y)** 2))\n",
        "        return distance\n",
        "\n",
        "    def __repr__(self):\n",
        "        return \"(\"+str(self.name)+\")\""
      ]
    },
    {
      "cell_type": "code",
      "execution_count": 3,
      "id": "Db5pjsbSjNLl",
      "metadata": {
        "id": "Db5pjsbSjNLl"
      },
      "outputs": [],
      "source": [
        "class Route:\n",
        "    def __init__(self, route):\n",
        "        self.route = route\n",
        "        self.distance = 0\n",
        "        self.fitness = 0.0\n",
        "\n",
        "    def routeDistance(self):\n",
        "        if self.distance == 0:\n",
        "            pathDistance = 0\n",
        "            for i in range(0, len(self.route)):\n",
        "                fromCity = self.route[i]\n",
        "                toCity = None\n",
        "\n",
        "                if i + 1 < len(self.route):\n",
        "                    toCity = self.route[i + 1]\n",
        "                else:\n",
        "                    toCity = self.route[0]\n",
        "\n",
        "                pathDistance += fromCity.distance(toCity)\n",
        "            self.distance = pathDistance\n",
        "        return self.distance\n",
        "\n",
        "    def routeFitness(self):\n",
        "        if self.fitness == 0:\n",
        "            self.fitness = 1 / float(self.routeDistance())\n",
        "        return self.fitness\n",
        "\n",
        "    def printCity(self):\n",
        "        namaKota =[]\n",
        "        for i in range(0,len(self.route)):\n",
        "            namaKota.append(self.route[i].name)\n",
        "        return \"(\"+str(namaKota)+ \")\""
      ]
    },
    {
      "attachments": {},
      "cell_type": "markdown",
      "id": "FAb_5rm4jFIN",
      "metadata": {
        "id": "FAb_5rm4jFIN"
      },
      "source": [
        "## Genetic Algorithm Functions\n",
        "\n",
        "Create several functions to perform each step in the genetic algorithm, such as:\n",
        "- Create Route\n",
        "- Initial Population\n",
        "- Rank Routes\n",
        "- Selection\n",
        "- Check Tabulist\n",
        "- Crossover\n",
        "- Mutate\n",
        "- Update Generation"
      ]
    },
    {
      "attachments": {},
      "cell_type": "markdown",
      "id": "znKDjlNiD2Zi",
      "metadata": {
        "id": "znKDjlNiD2Zi"
      },
      "source": [
        "### Create Route"
      ]
    },
    {
      "cell_type": "code",
      "execution_count": 4,
      "id": "TB8Vxs2jD4q1",
      "metadata": {
        "id": "TB8Vxs2jD4q1"
      },
      "outputs": [],
      "source": [
        "def createRoute(cityList):\n",
        "    #Randomize city based on city in dataset to assign into route\n",
        "    route = random.sample(cityList, len(cityList))\n",
        "    return route"
      ]
    },
    {
      "attachments": {},
      "cell_type": "markdown",
      "id": "Upi_gGfHD73w",
      "metadata": {
        "id": "Upi_gGfHD73w"
      },
      "source": [
        "### Intialization the Population"
      ]
    },
    {
      "cell_type": "code",
      "execution_count": 5,
      "id": "GRrMvZqyEB_1",
      "metadata": {
        "id": "GRrMvZqyEB_1"
      },
      "outputs": [],
      "source": [
        "def initialPopulation(popSize, cityList):\n",
        "    population = []\n",
        "    # Create population based on population size\n",
        "    for i in range(0, popSize):\n",
        "      route = createRoute(cityList)\n",
        "      while route in population:\n",
        "        route = createRoute(cityList)\n",
        "      population.append(createRoute(cityList))\n",
        "    return population"
      ]
    },
    {
      "attachments": {},
      "cell_type": "markdown",
      "id": "-aZ5-B5rEC91",
      "metadata": {
        "id": "-aZ5-B5rEC91"
      },
      "source": [
        "### Rank Routes"
      ]
    },
    {
      "cell_type": "code",
      "execution_count": 6,
      "id": "bgp7ycP4ELzq",
      "metadata": {
        "id": "bgp7ycP4ELzq"
      },
      "outputs": [],
      "source": [
        "def rankRoutes(population):\n",
        "    fitnessResults = []\n",
        "    rankRoute = {}\n",
        "\n",
        "    #Determine fitness each individual in population\n",
        "    for i in range(0, len(population)):\n",
        "        fitnessResults.append(Route(population[i]).routeFitness())\n",
        "\n",
        "    #Sorting based on fitness value\n",
        "    sortedFitness = sorted(fitnessResults, reverse=True)\n",
        "    for i in range(0, len(sortedFitness)):\n",
        "        for j in range(0, len(population)):\n",
        "            if sortedFitness[i] == Route(population[j]).routeFitness():\n",
        "                rankRoute[i] = population[j]\n",
        "\n",
        "    return rankRoute"
      ]
    },
    {
      "attachments": {},
      "cell_type": "markdown",
      "id": "kV20HHhyEcuf",
      "metadata": {
        "id": "kV20HHhyEcuf"
      },
      "source": [
        "### Selection"
      ]
    },
    {
      "cell_type": "code",
      "execution_count": 7,
      "id": "nI_ONY3IEhqn",
      "metadata": {
        "id": "nI_ONY3IEhqn"
      },
      "outputs": [],
      "source": [
        "def selection(population,DEBUG=False):\n",
        "    selection = []\n",
        "    #Take first 2  the best individuals\n",
        "    for i in range(0,2):\n",
        "        selection.append(population[i])\n",
        "        if DEBUG:\n",
        "            print(\"seleksi ke-\" + str(i+1) + \" \" + str(Route(selection[i]).printCity()) + \"\\n\" +\n",
        "                \" Jarak = \" + str(Route(selection[i]).routeDistance()) + \"\\n\" + \" Fitness = \" + str(\n",
        "                Route(selection[i]).routeFitness()))\n",
        "    return selection"
      ]
    },
    {
      "attachments": {},
      "cell_type": "markdown",
      "id": "OvyUF7PMEicG",
      "metadata": {
        "id": "OvyUF7PMEicG"
      },
      "source": [
        "### Tabulist"
      ]
    },
    {
      "cell_type": "code",
      "execution_count": 8,
      "id": "fyH3GhQdEke1",
      "metadata": {
        "id": "fyH3GhQdEke1"
      },
      "outputs": [],
      "source": [
        "def tabulist(selectionResults,tabulist):\n",
        "    isTabulist1 = False\n",
        "    isTabulist2 = False\n",
        "    isTabulist = False\n",
        "\n",
        "    #Check tabulist\n",
        "    for j in range(0,len(tabulist)):\n",
        "        if selectionResults[0] == tabulist[j]:\n",
        "            isTabulist1 = True\n",
        "        if selectionResults[1] == tabulist[j]:\n",
        "            isTabulist2 = True\n",
        "\n",
        "    if isTabulist1 == False:\n",
        "        tabulist.append(selectionResults[0])\n",
        "    if isTabulist2 == False:\n",
        "        tabulist.append(selectionResults[1])\n",
        "\n",
        "    if isTabulist1 == True and isTabulist2 == True:\n",
        "        isTabulist = True\n",
        "\n",
        "    return isTabulist,tabulist"
      ]
    },
    {
      "attachments": {},
      "cell_type": "markdown",
      "id": "qTv1WkUqEnLN",
      "metadata": {
        "id": "qTv1WkUqEnLN"
      },
      "source": [
        "### Crossover"
      ]
    },
    {
      "cell_type": "code",
      "execution_count": 9,
      "id": "QCvxkBpREoxC",
      "metadata": {
        "id": "QCvxkBpREoxC"
      },
      "outputs": [],
      "source": [
        "def crossover(parent1, parent2,tab,DEBUG=False):\n",
        "    childP1 = []\n",
        "    childP2 = []\n",
        "    child = []\n",
        "\n",
        "    # randomizes the gene number to be carried out crossover\n",
        "    # if tabulis is true then the crossover result is the same as parent1 (best individual)\n",
        "    if tab == True:\n",
        "        geneA = 0\n",
        "        geneB = len(parent1)-1\n",
        "    else:\n",
        "        geneA = random.randint(1, len(parent1)-1)\n",
        "        geneB = random.randint(1, len(parent1)-1)\n",
        "        # Gene A and Gene B do not have the same value\n",
        "        while geneA == geneB:\n",
        "            geneB = random.randint(1, len(parent1)-1)\n",
        "\n",
        "    startGene = min(geneA, geneB)\n",
        "    endGene = max(geneA, geneB)\n",
        "    \n",
        "    if DEBUG:\n",
        "        print(\"stargene = \"+str(startGene+1)+\", endGene = \"+str(endGene+1))\n",
        "\n",
        "    for i in range(startGene, endGene+1):\n",
        "        childP1.append(parent1[i])\n",
        "\n",
        "    for item in parent2:\n",
        "        if item not in childP1:\n",
        "            childP2.append(item)\n",
        "\n",
        "    #Crossover Result\n",
        "    idxChild1 = 0\n",
        "    idxChild2 = 0\n",
        "    for i in range(len(parent1)):\n",
        "      if i >= startGene and i <= endGene:\n",
        "        child.append(childP1[idxChild1])\n",
        "        idxChild1 += 1\n",
        "      else:\n",
        "        child.append(childP2[idxChild2])\n",
        "        idxChild2 += 1\n",
        "\n",
        "    return child"
      ]
    },
    {
      "attachments": {},
      "cell_type": "markdown",
      "id": "Ecpn8AcWEsEx",
      "metadata": {
        "id": "Ecpn8AcWEsEx"
      },
      "source": [
        "### Mutate"
      ]
    },
    {
      "cell_type": "code",
      "execution_count": 10,
      "id": "lUqyzjCBEvAg",
      "metadata": {
        "id": "lUqyzjCBEvAg"
      },
      "outputs": [],
      "source": [
        "def mutate(individual,DEBUG=False):\n",
        "    #randomizes the gene number to be exchanged\n",
        "    swapped = random.randint(1, len(individual)-1)\n",
        "    swapWith = random.randint(1, len(individual)-1)\n",
        "    #swapped and swapWith cannot have the same value\n",
        "    while swapped == swapWith:\n",
        "        swapWith = random.randint(1, len(individual)-1)\n",
        "\n",
        "    city1 = individual[swapped]\n",
        "    city2 = individual[swapWith]\n",
        "\n",
        "    if DEBUG:\n",
        "        print(\"swapped = \"+str(swapped+1) + \" , swap with = \" + str(swapWith+1))\n",
        "\n",
        "    #hasil mutasi\n",
        "    individual[swapped] = city2\n",
        "    individual[swapWith] = city1\n",
        "    return individual"
      ]
    },
    {
      "attachments": {},
      "cell_type": "markdown",
      "id": "u8ZIRWkVEvh1",
      "metadata": {
        "id": "u8ZIRWkVEvh1"
      },
      "source": [
        "### Update Generation"
      ]
    },
    {
      "cell_type": "code",
      "execution_count": 11,
      "id": "IrjStDjFE0EM",
      "metadata": {
        "id": "IrjStDjFE0EM"
      },
      "outputs": [],
      "source": [
        "def updateGeneration(population,popsize,mutate,DEBUG=False):\n",
        "    generasibaru =[]\n",
        "    #combining populations with mutation results to create a new generation\n",
        "    for i in range(0,popsize):\n",
        "        generasibaru.append(population[i])\n",
        "\n",
        "    #replace the individual with the smallest fitness (last index) with the mutation result if the mutation result is greater\n",
        "    if Route(mutate).routeFitness() >= Route(generasibaru[-1]).routeFitness():\n",
        "      generasibaru[popsize-1] =mutate\n",
        "    if DEBUG:\n",
        "        for i in range(0,popsize):\n",
        "            print(\"Generasi baru ke-\" + str(i+1) + \" \" + str(Route(generasibaru[i]).printCity()) +\n",
        "                \" Jarak = \" + str(Route(generasibaru[i]).routeDistance()) + \" Fitness = \" + str(\n",
        "                Route(generasibaru[i]).routeFitness()))\n",
        "\n",
        "    return generasibaru"
      ]
    },
    {
      "attachments": {},
      "cell_type": "markdown",
      "id": "0YZOzzakE0up",
      "metadata": {
        "id": "0YZOzzakE0up"
      },
      "source": [
        "### Implement The Genetica Algorithm"
      ]
    },
    {
      "cell_type": "code",
      "execution_count": 12,
      "id": "0be31a0f-96f3-44eb-b52e-d5d66b72d016",
      "metadata": {
        "id": "0be31a0f-96f3-44eb-b52e-d5d66b72d016"
      },
      "outputs": [],
      "source": [
        "def geneticAlgorithm(population, popSize, generations, DEBUG=False):\n",
        "    tabulistResult = []\n",
        "    finalPopulation = []\n",
        "    pop = []\n",
        "\n",
        "    # Create Population\n",
        "    populasi = initialPopulation(popSize, population)\n",
        "\n",
        "    # Sort each individual in population based on ranking\n",
        "    rankPopulasi = rankRoutes(populasi)\n",
        "    for i in range(0, popSize):\n",
        "        pop.append(rankPopulasi[i])\n",
        "\n",
        "    # Start genetic algorithm with the first generation\n",
        "    print(\"=========================== GENERASI KE \" + str(1) + \"===============================================================>\")\n",
        "    for i in range(0,len(pop)):\n",
        "        print(\"populasi ke-\" + str(i+1) + \" \" + str(Route(pop[i]).printCity()) +\n",
        "              \" Jarak = \" + str(Route(pop[i]).routeDistance()) + \" Fitness = \" + str(\n",
        "            Route(pop[i]).routeFitness()))\n",
        "    print(\"==========================================================================================>\")\n",
        "\n",
        "    bestDistance = 9999999999999\n",
        "    progress =[]\n",
        "    for i in range(0, generations):\n",
        "        nextGeneration = []\n",
        "\n",
        "        #Selection process\n",
        "        selectionResults = selection(pop, DEBUG)\n",
        "\n",
        "        #Check Tabulist\n",
        "        tab, tabulistResult = tabulist(selectionResults, tabulistResult)\n",
        "\n",
        "        #Crossover if the tabulist true\n",
        "        crossoverResult = crossover(selectionResults[0], selectionResults[1], tab, DEBUG)\n",
        "        if DEBUG:\n",
        "            if tab == False:\n",
        "                print(\"Tabulist False\")\n",
        "                print(\"==========================================================================================>\")\n",
        "                print(\"hasil crossover = \" + str(crossoverResult))\n",
        "                print(\"==========================================================================================>\")\n",
        "            elif tab == True:\n",
        "                print(\"Tabulist true\")\n",
        "                print(\"==========================================================================================>\")\n",
        "                print(\"seleksi 1 = \" + str(crossoverResult))\n",
        "                print(\"==========================================================================================>\")\n",
        "            print(\"TABULIST : \", tabulistResult, \"\\n\")\n",
        "\n",
        "        #Mutate Process\n",
        "        children = mutate(crossoverResult,DEBUG)\n",
        "        if DEBUG:\n",
        "            print(\"hasil mutasi = \" + str(children) + \" Jarak = \" + str(Route(children).routeDistance()) + \" Fitness = \" + str(\n",
        "                Route(children).routeFitness()))\n",
        "            print(\"==========================================================================================>\")\n",
        "\n",
        "        #Update Generation\n",
        "        nextGeneration = updateGeneration(pop, popSize, children, DEBUG)\n",
        "        poptemp = nextGeneration\n",
        "\n",
        "        # Sorting new generations based on fitness\n",
        "        poptemp = rankRoutes(poptemp)\n",
        "        pop = []\n",
        "        for j in range(0, popSize):\n",
        "            pop.append(poptemp[j])\n",
        "\n",
        "        # Save the best individual in this generation\n",
        "        tempbestroute = Route(pop[0]).routeDistance()\n",
        "        progress.append(Route(pop[0]).routeDistance())\n",
        "        if (bestDistance > tempbestroute):\n",
        "            bestIndividu = Route(pop[0]).printCity()\n",
        "            bestDistance = Route(pop[0]).routeDistance()\n",
        "            bestFitness = Route(pop[0]).routeFitness()\n",
        "\n",
        "        # Next Generation process\n",
        "        finalPopulation = pop\n",
        "        if (DEBUG and i < generations-1) or (i == generations-1): \n",
        "            print(\"\\n====================================== GENERASI KE \" + str(\n",
        "                i + 2) + \"======================================>\")\n",
        "            for n in range(0, len(pop)):\n",
        "                print(\"populasi ke-\" + str(n+1) + \" \" + str(Route(pop[n]).printCity()) +\n",
        "                    \" Jarak = \" + str(Route(pop[n]).routeDistance()) + \" Fitness = \" + str(\n",
        "                    Route(pop[n]).routeFitness()))\n",
        "            print(\"=========================================================================================>\")\n",
        "\n",
        "\n",
        "    print(\"BEST INDIVIDU = \" + str(bestIndividu))\n",
        "    print(\"BEST DISTANCE = \" + str(bestDistance))\n",
        "    print(\"BEST FITNESS = \" + str(bestFitness))\n",
        "\n",
        "    # Visualize the genetic algorithm result\n",
        "    plt.figure(0)\n",
        "    plt.plot(progress)\n",
        "    plt.ylabel('Distance')\n",
        "    plt.xlabel('Generation')\n",
        "    plt.title('Genetica Algorithm Result')\n",
        "    plt.savefig('./images/ga_result.png')\n",
        "\n",
        "    return finalPopulation"
      ]
    },
    {
      "attachments": {},
      "cell_type": "markdown",
      "id": "adpH6mpjjuhI",
      "metadata": {
        "id": "adpH6mpjjuhI"
      },
      "source": [
        "## Main"
      ]
    },
    {
      "attachments": {},
      "cell_type": "markdown",
      "id": "d4b78d5d",
      "metadata": {},
      "source": [
        "There are several variables that you must fill in first:\n",
        "- datasetPath (fielname the dataset)\n",
        "- populationSize (number of population)\n",
        "- generation (number of generation)"
      ]
    },
    {
      "cell_type": "code",
      "execution_count": 13,
      "id": "995e8393-3ab2-46d2-8a6d-24a5511bd607",
      "metadata": {
        "id": "995e8393-3ab2-46d2-8a6d-24a5511bd607"
      },
      "outputs": [],
      "source": [
        "%%capture cap\n",
        "if not os.path.exists('./logs'):\n",
        "    os.mkdir('./logs')\n",
        "if not os.path.exists('./images'):\n",
        "    os.mkdir('./images')\n",
        "\n",
        "if os.path.exists('./logs/ga_result.txt'):\n",
        "    os.remove('./logs/ga_result.txt')\n",
        "if os.path.exists('./logs/algen_result.png'):\n",
        "    os.remove('./logs/ga_result.png')\n",
        "\n",
        "DEBUG = False # if DEBUG is true to print all result. Default DEBUG is false for print final result only\n",
        "datasetPath = \"../dataset/t5.csv\"\n",
        "\n",
        "# Genetic Algorithm Parameters\n",
        "populationSize = 5\n",
        "generation = 50\n",
        "\n",
        "start_time = time.time()\n",
        "\n",
        "city = pd.read_csv(datasetPath, header=None , sep=' ')\n",
        "cityList = []\n",
        "for i in range(0,len(city)):\n",
        "    cityList.append(City(name = city.iloc[i,0],x=city.iloc[i][1],y=city.iloc[i][2]))\n",
        "\n",
        "# Start Genetic Algorithm process\n",
        "print(\"\\n====================================== Genetica Algorithm ======================================\\n\")\n",
        "print(f\"Population Size: {str(populationSize)}\")\n",
        "print(f\"Generation: {str(generation)}\")\n",
        "print()\n",
        "result = geneticAlgorithm(population=cityList, popSize=populationSize, generations=generation, DEBUG=DEBUG)\n",
        "\n",
        "executionTime = time.time() - start_time\n",
        "print(\"EXECUTION TIME =: {hour:.4f} hour, {minutes:.4f} minutes, {seconds:.4f} seconds\".format(hour = executionTime/3600, minutes = executionTime/60, seconds = executionTime))\n"
      ]
    },
    {
      "cell_type": "code",
      "execution_count": 14,
      "id": "Qndg1M4gbccF",
      "metadata": {
        "id": "Qndg1M4gbccF"
      },
      "outputs": [],
      "source": [
        "with open('./logs/ga_result.txt', 'w') as f:\n",
        "    f.write(cap.stdout)"
      ]
    }
  ],
  "metadata": {
    "colab": {
      "provenance": []
    },
    "kernelspec": {
      "display_name": "Python 3 (ipykernel)",
      "language": "python",
      "name": "python3"
    },
    "language_info": {
      "codemirror_mode": {
        "name": "ipython",
        "version": 3
      },
      "file_extension": ".py",
      "mimetype": "text/x-python",
      "name": "python",
      "nbconvert_exporter": "python",
      "pygments_lexer": "ipython3",
      "version": "3.12.3"
    }
  },
  "nbformat": 4,
  "nbformat_minor": 5
}
